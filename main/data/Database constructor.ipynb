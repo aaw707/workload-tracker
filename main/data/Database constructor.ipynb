{
 "cells": [
  {
   "cell_type": "code",
   "execution_count": 2,
   "id": "9f365992",
   "metadata": {},
   "outputs": [],
   "source": [
    "import numpy as np\n",
    "import pandas as pd\n",
    "from datetime import datetime as dt\n",
    "from datetime import date"
   ]
  },
  {
   "cell_type": "markdown",
   "id": "3f6db5f5",
   "metadata": {},
   "source": [
    "# Create empty dfs"
   ]
  },
  {
   "cell_type": "code",
   "execution_count": 97,
   "id": "dafcb5fc",
   "metadata": {},
   "outputs": [],
   "source": [
    "# works\n",
    "works_df = pd.DataFrame({\n",
    "    'id': pd.Series(dtype = 'int'),\n",
    "    'name': pd.Series(dtype = 'str'),\n",
    "    'client_id': pd.Series(dtype = 'int'),\n",
    "    'type_id': pd.Series(dtype = 'int'),\n",
    "    'deposit': pd.Series(dtype = 'int'),\n",
    "    'price': pd.Series(dtype = 'int'),\n",
    "    'deposited': pd.Series(dtype = 'int'),\n",
    "    'fully_paid': pd.Series(dtype = 'int'),\n",
    "    'memo': pd.Series(dtype = 'str'),\n",
    "    'client_requests': pd.Series(dtype = 'str'),\n",
    "    'attachments': pd.Series(dtype = 'str')  # attachments separated by ,\n",
    "})"
   ]
  },
  {
   "cell_type": "code",
   "execution_count": 98,
   "id": "339a7ff9",
   "metadata": {},
   "outputs": [],
   "source": [
    "# clients\n",
    "clients_df = pd.DataFrame({\n",
    "    'id': pd.Series(dtype = 'int'),\n",
    "    'client': pd.Series(dtype = 'str'),\n",
    "    'active': pd.Series(dtype = 'int'),\n",
    "    'order': pd.Series(dtype = 'int')\n",
    "})"
   ]
  },
  {
   "cell_type": "code",
   "execution_count": 99,
   "id": "3814f3d3",
   "metadata": {},
   "outputs": [],
   "source": [
    "# types\n",
    "types_df = pd.DataFrame({\n",
    "    'id': pd.Series(dtype = 'int'),\n",
    "    'type': pd.Series(dtype = 'str'),\n",
    "    'active': pd.Series(dtype = 'int'),\n",
    "    'order': pd.Series(dtype = 'int')\n",
    "})"
   ]
  },
  {
   "cell_type": "code",
   "execution_count": 100,
   "id": "09965fe4",
   "metadata": {},
   "outputs": [],
   "source": [
    "# pre set status\n",
    "status_df = pd.DataFrame({\n",
    "    'id': [0, 1, 2, 3, 4, 5, 6],\n",
    "    'status': [\n",
    "        '预约/讨论',\n",
    "        '确定开始',\n",
    "        '已出demo',\n",
    "        '修改细节',\n",
    "        '工作完成',\n",
    "        '取消',\n",
    "        '其他'\n",
    "    ]})"
   ]
  },
  {
   "cell_type": "code",
   "execution_count": 101,
   "id": "0500658b",
   "metadata": {},
   "outputs": [],
   "source": [
    "# status_log\n",
    "status_log_df = pd.DataFrame({\n",
    "    'id': pd.Series(dtype = 'int'),\n",
    "    'work_id': pd.Series(dtype = 'str'),\n",
    "    'status_id': pd.Series(dtype = 'int'),\n",
    "    'start_date': pd.Series(dtype = 'datetime64[ns]'),\n",
    "    'end_date': pd.Series(dtype = 'datetime64[ns]'),\n",
    "    \"timestamp\": pd.Series(dtype = 'datetime64[ns]')\n",
    "})"
   ]
  },
  {
   "cell_type": "code",
   "execution_count": 102,
   "id": "96a6ddf1",
   "metadata": {},
   "outputs": [],
   "source": [
    "works_df.to_csv(\"works.csv\", index = False)\n",
    "clients_df.to_csv(\"clients.csv\", index = False)\n",
    "types_df.to_csv(\"types.csv\", index = False)\n",
    "status_df.to_csv(\"status.csv\", index = False)\n",
    "status_log_df.to_csv(\"status_log.csv\", index = False)"
   ]
  },
  {
   "cell_type": "markdown",
   "id": "47f16ac7",
   "metadata": {},
   "source": [
    "# Add test data"
   ]
  },
  {
   "cell_type": "code",
   "execution_count": null,
   "id": "2517f058",
   "metadata": {},
   "outputs": [],
   "source": [
    "today = pd.to_datetime('today')\n",
    "today"
   ]
  },
  {
   "cell_type": "code",
   "execution_count": 64,
   "id": "015b1e9d",
   "metadata": {},
   "outputs": [],
   "source": [
    "works0 = pd.DataFrame({'id': [0],\n",
    "          'name': [\"小星星\"],\n",
    "          'client_id': [1],\n",
    "          'type_id': [1],\n",
    "          'deposit': [1000],\n",
    "          'price': [2000],\n",
    "          'deposited': [1],\n",
    "          'fully_paid': [0],\n",
    "          'memo': [\"加急\"],\n",
    "          'client_requests': [\"request1\"],\n",
    "          'attachments': ['']          \n",
    "         })\n",
    "# works = works.append(works1, ignore_index = True)\n",
    "works_df = pd.concat([works_df, works0])"
   ]
  },
  {
   "cell_type": "code",
   "execution_count": 65,
   "id": "6477324f",
   "metadata": {},
   "outputs": [],
   "source": [
    "works1 = pd.DataFrame({'id': [1],\n",
    "          'name': [\"欢乐颂\"],\n",
    "          'client_id': [0],\n",
    "          'type_id': [0],\n",
    "          'deposit': [3000],\n",
    "          'price': [5000],\n",
    "          'deposited': [0],\n",
    "          'fully_paid': [0],\n",
    "          'memo': [\"做欢快点儿\"],\n",
    "          'client_requests': [\"request2\"],\n",
    "          'attachments': ['']          \n",
    "         })\n",
    "# works = works.append(works2, ignore_index = True)\n",
    "works_df = pd.concat([works_df, works1])"
   ]
  },
  {
   "cell_type": "code",
   "execution_count": 59,
   "id": "128f1eb4",
   "metadata": {},
   "outputs": [],
   "source": [
    "client0 = {'id': 0,\n",
    "          'client': \"A老师\",\n",
    "           'active': 1,\n",
    "           'order': \"1\"\n",
    "         }\n",
    "clients_df = clients_df.append(client0, ignore_index = True)"
   ]
  },
  {
   "cell_type": "code",
   "execution_count": 60,
   "id": "392145b0",
   "metadata": {},
   "outputs": [],
   "source": [
    "client1 = {'id': 1,\n",
    "          'client': \"B老师\",\n",
    "           'active': 1,\n",
    "           'order': \"2\"\n",
    "         }\n",
    "clients_df = clients_df.append(client1, ignore_index = True)"
   ]
  },
  {
   "cell_type": "code",
   "execution_count": 54,
   "id": "795735d2",
   "metadata": {},
   "outputs": [],
   "source": [
    "type0 = {'id': 0,\n",
    "          'type': \"编曲\",\n",
    "           'active': 1,\n",
    "           'order': \"1\"\n",
    "         }\n",
    "types_df = types_df.append(type0, ignore_index = True)"
   ]
  },
  {
   "cell_type": "code",
   "execution_count": 55,
   "id": "89f71e89",
   "metadata": {},
   "outputs": [],
   "source": [
    "type1 = {'id': 1,\n",
    "          'type': \"扒带\",\n",
    "           'active': 1,\n",
    "           'order': \"2\"\n",
    "         }\n",
    "types_df = types_df.append(type1, ignore_index = True)"
   ]
  },
  {
   "cell_type": "code",
   "execution_count": 102,
   "id": "a006e04b",
   "metadata": {},
   "outputs": [],
   "source": [
    "status_log_df = pd.DataFrame({\n",
    "    'id': [0, 1, 2, 3],\n",
    "    'work_id': [1, 1, 2, 2],\n",
    "    'status_id': [0, 1, 1, 3],\n",
    "    'start_date': [dt(2022, 1, 1), dt(2022, 7, 11), dt(2022, 7, 1), dt(2022, 7, 3)],\n",
    "    'end_date': [dt(2022, 2, 1), dt(2022, 11, 1), dt(2022, 7, 3), dt(2022, 10, 1)],\n",
    "    'timestamp':[dt.now(), dt.now(), dt.now(), dt.now()]\n",
    "})"
   ]
  },
  {
   "cell_type": "code",
   "execution_count": 103,
   "id": "b99bc74a",
   "metadata": {},
   "outputs": [],
   "source": [
    "status_log_df.at[1, 'timestamp'] = dt.now()"
   ]
  },
  {
   "cell_type": "code",
   "execution_count": 104,
   "id": "75c0bf10",
   "metadata": {},
   "outputs": [],
   "source": [
    "status_log_df.at[3, 'timestamp'] = dt.now()"
   ]
  },
  {
   "cell_type": "code",
   "execution_count": 26,
   "id": "919ec1c5",
   "metadata": {},
   "outputs": [],
   "source": [
    "works_df.to_csv(\"works.csv\", index = False)\n",
    "clients_df.to_csv(\"clients.csv\", index = False)\n",
    "types_df.to_csv(\"types.csv\", index = False)\n",
    "status_df.to_csv(\"status.csv\", index = False)\n",
    "status_log_df.to_csv(\"status_log.csv\", index = False)"
   ]
  },
  {
   "cell_type": "markdown",
   "id": "a3e08a3e",
   "metadata": {},
   "source": [
    "# Examine current dfs"
   ]
  },
  {
   "cell_type": "code",
   "execution_count": 3,
   "id": "a65d886e",
   "metadata": {},
   "outputs": [],
   "source": [
    "works_df = pd.read_csv(\"works.csv\")\n",
    "status_log_df = pd.read_csv(\"status_log.csv\", parse_dates = [3, 4, 5], date_parser = pd.to_datetime)\n",
    "clients_df = pd.read_csv(\"clients.csv\")\n",
    "types_df = pd.read_csv(\"types.csv\")\n",
    "status_df = pd.read_csv(\"status.csv\")"
   ]
  },
  {
   "cell_type": "code",
   "execution_count": 104,
   "id": "c50e425c",
   "metadata": {},
   "outputs": [
    {
     "data": {
      "text/html": [
       "<div>\n",
       "<style scoped>\n",
       "    .dataframe tbody tr th:only-of-type {\n",
       "        vertical-align: middle;\n",
       "    }\n",
       "\n",
       "    .dataframe tbody tr th {\n",
       "        vertical-align: top;\n",
       "    }\n",
       "\n",
       "    .dataframe thead th {\n",
       "        text-align: right;\n",
       "    }\n",
       "</style>\n",
       "<table border=\"1\" class=\"dataframe\">\n",
       "  <thead>\n",
       "    <tr style=\"text-align: right;\">\n",
       "      <th></th>\n",
       "      <th>id</th>\n",
       "      <th>name</th>\n",
       "      <th>client_id</th>\n",
       "      <th>type_id</th>\n",
       "      <th>deposit</th>\n",
       "      <th>price</th>\n",
       "      <th>deposited</th>\n",
       "      <th>fully_paid</th>\n",
       "      <th>memo</th>\n",
       "      <th>client_requests</th>\n",
       "      <th>attachments</th>\n",
       "    </tr>\n",
       "  </thead>\n",
       "  <tbody>\n",
       "  </tbody>\n",
       "</table>\n",
       "</div>"
      ],
      "text/plain": [
       "Empty DataFrame\n",
       "Columns: [id, name, client_id, type_id, deposit, price, deposited, fully_paid, memo, client_requests, attachments]\n",
       "Index: []"
      ]
     },
     "execution_count": 104,
     "metadata": {},
     "output_type": "execute_result"
    }
   ],
   "source": [
    "works_df"
   ]
  },
  {
   "cell_type": "code",
   "execution_count": 105,
   "id": "1b987c51",
   "metadata": {},
   "outputs": [
    {
     "data": {
      "text/html": [
       "<div>\n",
       "<style scoped>\n",
       "    .dataframe tbody tr th:only-of-type {\n",
       "        vertical-align: middle;\n",
       "    }\n",
       "\n",
       "    .dataframe tbody tr th {\n",
       "        vertical-align: top;\n",
       "    }\n",
       "\n",
       "    .dataframe thead th {\n",
       "        text-align: right;\n",
       "    }\n",
       "</style>\n",
       "<table border=\"1\" class=\"dataframe\">\n",
       "  <thead>\n",
       "    <tr style=\"text-align: right;\">\n",
       "      <th></th>\n",
       "      <th>id</th>\n",
       "      <th>client</th>\n",
       "      <th>active</th>\n",
       "      <th>order</th>\n",
       "    </tr>\n",
       "  </thead>\n",
       "  <tbody>\n",
       "  </tbody>\n",
       "</table>\n",
       "</div>"
      ],
      "text/plain": [
       "Empty DataFrame\n",
       "Columns: [id, client, active, order]\n",
       "Index: []"
      ]
     },
     "execution_count": 105,
     "metadata": {},
     "output_type": "execute_result"
    }
   ],
   "source": [
    "clients_df"
   ]
  },
  {
   "cell_type": "code",
   "execution_count": 106,
   "id": "045f2459",
   "metadata": {},
   "outputs": [
    {
     "data": {
      "text/html": [
       "<div>\n",
       "<style scoped>\n",
       "    .dataframe tbody tr th:only-of-type {\n",
       "        vertical-align: middle;\n",
       "    }\n",
       "\n",
       "    .dataframe tbody tr th {\n",
       "        vertical-align: top;\n",
       "    }\n",
       "\n",
       "    .dataframe thead th {\n",
       "        text-align: right;\n",
       "    }\n",
       "</style>\n",
       "<table border=\"1\" class=\"dataframe\">\n",
       "  <thead>\n",
       "    <tr style=\"text-align: right;\">\n",
       "      <th></th>\n",
       "      <th>id</th>\n",
       "      <th>type</th>\n",
       "      <th>active</th>\n",
       "      <th>order</th>\n",
       "    </tr>\n",
       "  </thead>\n",
       "  <tbody>\n",
       "  </tbody>\n",
       "</table>\n",
       "</div>"
      ],
      "text/plain": [
       "Empty DataFrame\n",
       "Columns: [id, type, active, order]\n",
       "Index: []"
      ]
     },
     "execution_count": 106,
     "metadata": {},
     "output_type": "execute_result"
    }
   ],
   "source": [
    "types_df"
   ]
  },
  {
   "cell_type": "code",
   "execution_count": 107,
   "id": "9371f43c",
   "metadata": {
    "scrolled": false
   },
   "outputs": [
    {
     "data": {
      "text/html": [
       "<div>\n",
       "<style scoped>\n",
       "    .dataframe tbody tr th:only-of-type {\n",
       "        vertical-align: middle;\n",
       "    }\n",
       "\n",
       "    .dataframe tbody tr th {\n",
       "        vertical-align: top;\n",
       "    }\n",
       "\n",
       "    .dataframe thead th {\n",
       "        text-align: right;\n",
       "    }\n",
       "</style>\n",
       "<table border=\"1\" class=\"dataframe\">\n",
       "  <thead>\n",
       "    <tr style=\"text-align: right;\">\n",
       "      <th></th>\n",
       "      <th>id</th>\n",
       "      <th>work_id</th>\n",
       "      <th>status_id</th>\n",
       "      <th>start_date</th>\n",
       "      <th>end_date</th>\n",
       "      <th>timestamp</th>\n",
       "    </tr>\n",
       "  </thead>\n",
       "  <tbody>\n",
       "  </tbody>\n",
       "</table>\n",
       "</div>"
      ],
      "text/plain": [
       "Empty DataFrame\n",
       "Columns: [id, work_id, status_id, start_date, end_date, timestamp]\n",
       "Index: []"
      ]
     },
     "execution_count": 107,
     "metadata": {},
     "output_type": "execute_result"
    }
   ],
   "source": [
    "status_log_df"
   ]
  },
  {
   "cell_type": "code",
   "execution_count": 108,
   "id": "2e57ba6d",
   "metadata": {},
   "outputs": [
    {
     "data": {
      "text/html": [
       "<div>\n",
       "<style scoped>\n",
       "    .dataframe tbody tr th:only-of-type {\n",
       "        vertical-align: middle;\n",
       "    }\n",
       "\n",
       "    .dataframe tbody tr th {\n",
       "        vertical-align: top;\n",
       "    }\n",
       "\n",
       "    .dataframe thead th {\n",
       "        text-align: right;\n",
       "    }\n",
       "</style>\n",
       "<table border=\"1\" class=\"dataframe\">\n",
       "  <thead>\n",
       "    <tr style=\"text-align: right;\">\n",
       "      <th></th>\n",
       "      <th>id</th>\n",
       "      <th>status</th>\n",
       "    </tr>\n",
       "  </thead>\n",
       "  <tbody>\n",
       "    <tr>\n",
       "      <th>0</th>\n",
       "      <td>0</td>\n",
       "      <td>预约/讨论</td>\n",
       "    </tr>\n",
       "    <tr>\n",
       "      <th>1</th>\n",
       "      <td>1</td>\n",
       "      <td>确定开始</td>\n",
       "    </tr>\n",
       "    <tr>\n",
       "      <th>2</th>\n",
       "      <td>2</td>\n",
       "      <td>已出demo</td>\n",
       "    </tr>\n",
       "    <tr>\n",
       "      <th>3</th>\n",
       "      <td>3</td>\n",
       "      <td>修改细节</td>\n",
       "    </tr>\n",
       "    <tr>\n",
       "      <th>4</th>\n",
       "      <td>4</td>\n",
       "      <td>工作完成</td>\n",
       "    </tr>\n",
       "    <tr>\n",
       "      <th>5</th>\n",
       "      <td>5</td>\n",
       "      <td>取消</td>\n",
       "    </tr>\n",
       "    <tr>\n",
       "      <th>6</th>\n",
       "      <td>6</td>\n",
       "      <td>其他</td>\n",
       "    </tr>\n",
       "  </tbody>\n",
       "</table>\n",
       "</div>"
      ],
      "text/plain": [
       "   id  status\n",
       "0   0   预约/讨论\n",
       "1   1    确定开始\n",
       "2   2  已出demo\n",
       "3   3    修改细节\n",
       "4   4    工作完成\n",
       "5   5      取消\n",
       "6   6      其他"
      ]
     },
     "execution_count": 108,
     "metadata": {},
     "output_type": "execute_result"
    }
   ],
   "source": [
    "status_df"
   ]
  },
  {
   "cell_type": "code",
   "execution_count": 19,
   "id": "d859beaa",
   "metadata": {},
   "outputs": [],
   "source": [
    "# grab the month/year to show\n"
   ]
  },
  {
   "cell_type": "code",
   "execution_count": 34,
   "id": "ec5c427b",
   "metadata": {},
   "outputs": [
    {
     "data": {
      "text/plain": [
       "['2022-08']"
      ]
     },
     "execution_count": 34,
     "metadata": {},
     "output_type": "execute_result"
    }
   ],
   "source": [
    "list(status_log_df['start_date'].apply(lambda x: x.strftime('%Y-%m')).drop_duplicates().sort_values(ascending=False))"
   ]
  },
  {
   "cell_type": "code",
   "execution_count": 13,
   "id": "51c59eee",
   "metadata": {},
   "outputs": [],
   "source": []
  },
  {
   "cell_type": "code",
   "execution_count": 14,
   "id": "6e5b57cc",
   "metadata": {},
   "outputs": [
    {
     "data": {
      "text/html": [
       "<div>\n",
       "<style scoped>\n",
       "    .dataframe tbody tr th:only-of-type {\n",
       "        vertical-align: middle;\n",
       "    }\n",
       "\n",
       "    .dataframe tbody tr th {\n",
       "        vertical-align: top;\n",
       "    }\n",
       "\n",
       "    .dataframe thead th {\n",
       "        text-align: right;\n",
       "    }\n",
       "</style>\n",
       "<table border=\"1\" class=\"dataframe\">\n",
       "  <thead>\n",
       "    <tr style=\"text-align: right;\">\n",
       "      <th></th>\n",
       "      <th>index</th>\n",
       "      <th>work_id</th>\n",
       "      <th>name</th>\n",
       "      <th>client_id</th>\n",
       "      <th>memo</th>\n",
       "      <th>price</th>\n",
       "      <th>client</th>\n",
       "      <th>status_id</th>\n",
       "      <th>start_date</th>\n",
       "      <th>end_date</th>\n",
       "      <th>status</th>\n",
       "    </tr>\n",
       "  </thead>\n",
       "  <tbody>\n",
       "    <tr>\n",
       "      <th>0</th>\n",
       "      <td>3</td>\n",
       "      <td>3</td>\n",
       "      <td>3</td>\n",
       "      <td>0</td>\n",
       "      <td></td>\n",
       "      <td>3</td>\n",
       "      <td>A</td>\n",
       "      <td>1</td>\n",
       "      <td>2022-08-14</td>\n",
       "      <td>2022-08-21</td>\n",
       "      <td>确定开始</td>\n",
       "    </tr>\n",
       "    <tr>\n",
       "      <th>1</th>\n",
       "      <td>4</td>\n",
       "      <td>6</td>\n",
       "      <td>6</td>\n",
       "      <td>0</td>\n",
       "      <td></td>\n",
       "      <td>1</td>\n",
       "      <td>A</td>\n",
       "      <td>1</td>\n",
       "      <td>2022-08-14</td>\n",
       "      <td>2022-08-21</td>\n",
       "      <td>确定开始</td>\n",
       "    </tr>\n",
       "    <tr>\n",
       "      <th>2</th>\n",
       "      <td>5</td>\n",
       "      <td>7</td>\n",
       "      <td>7</td>\n",
       "      <td>0</td>\n",
       "      <td></td>\n",
       "      <td>1</td>\n",
       "      <td>A</td>\n",
       "      <td>1</td>\n",
       "      <td>2022-08-14</td>\n",
       "      <td>2022-08-21</td>\n",
       "      <td>确定开始</td>\n",
       "    </tr>\n",
       "    <tr>\n",
       "      <th>3</th>\n",
       "      <td>6</td>\n",
       "      <td>9</td>\n",
       "      <td>9</td>\n",
       "      <td>0</td>\n",
       "      <td></td>\n",
       "      <td>1</td>\n",
       "      <td>A</td>\n",
       "      <td>1</td>\n",
       "      <td>2022-08-14</td>\n",
       "      <td>2022-08-21</td>\n",
       "      <td>确定开始</td>\n",
       "    </tr>\n",
       "    <tr>\n",
       "      <th>4</th>\n",
       "      <td>7</td>\n",
       "      <td>10</td>\n",
       "      <td>11</td>\n",
       "      <td>0</td>\n",
       "      <td></td>\n",
       "      <td>1</td>\n",
       "      <td>A</td>\n",
       "      <td>1</td>\n",
       "      <td>2022-08-14</td>\n",
       "      <td>2022-08-21</td>\n",
       "      <td>确定开始</td>\n",
       "    </tr>\n",
       "    <tr>\n",
       "      <th>5</th>\n",
       "      <td>8</td>\n",
       "      <td>11</td>\n",
       "      <td>12</td>\n",
       "      <td>0</td>\n",
       "      <td></td>\n",
       "      <td>1</td>\n",
       "      <td>A</td>\n",
       "      <td>1</td>\n",
       "      <td>2022-08-14</td>\n",
       "      <td>2022-08-21</td>\n",
       "      <td>确定开始</td>\n",
       "    </tr>\n",
       "    <tr>\n",
       "      <th>6</th>\n",
       "      <td>9</td>\n",
       "      <td>4</td>\n",
       "      <td>4</td>\n",
       "      <td>1</td>\n",
       "      <td></td>\n",
       "      <td>1</td>\n",
       "      <td>AA</td>\n",
       "      <td>1</td>\n",
       "      <td>2022-08-14</td>\n",
       "      <td>2022-08-21</td>\n",
       "      <td>确定开始</td>\n",
       "    </tr>\n",
       "    <tr>\n",
       "      <th>7</th>\n",
       "      <td>10</td>\n",
       "      <td>5</td>\n",
       "      <td>5</td>\n",
       "      <td>1</td>\n",
       "      <td></td>\n",
       "      <td>1</td>\n",
       "      <td>AA</td>\n",
       "      <td>1</td>\n",
       "      <td>2022-08-14</td>\n",
       "      <td>2022-08-21</td>\n",
       "      <td>确定开始</td>\n",
       "    </tr>\n",
       "  </tbody>\n",
       "</table>\n",
       "</div>"
      ],
      "text/plain": [
       "   index  work_id  name  client_id memo  price client  status_id start_date  \\\n",
       "0      3        3     3          0           3      A          1 2022-08-14   \n",
       "1      4        6     6          0           1      A          1 2022-08-14   \n",
       "2      5        7     7          0           1      A          1 2022-08-14   \n",
       "3      6        9     9          0           1      A          1 2022-08-14   \n",
       "4      7       10    11          0           1      A          1 2022-08-14   \n",
       "5      8       11    12          0           1      A          1 2022-08-14   \n",
       "6      9        4     4          1           1     AA          1 2022-08-14   \n",
       "7     10        5     5          1           1     AA          1 2022-08-14   \n",
       "\n",
       "    end_date status  \n",
       "0 2022-08-21   确定开始  \n",
       "1 2022-08-21   确定开始  \n",
       "2 2022-08-21   确定开始  \n",
       "3 2022-08-21   确定开始  \n",
       "4 2022-08-21   确定开始  \n",
       "5 2022-08-21   确定开始  \n",
       "6 2022-08-21   确定开始  \n",
       "7 2022-08-21   确定开始  "
      ]
     },
     "execution_count": 14,
     "metadata": {},
     "output_type": "execute_result"
    }
   ],
   "source": [
    "active_df"
   ]
  },
  {
   "cell_type": "code",
   "execution_count": 15,
   "id": "bb80b2ce",
   "metadata": {},
   "outputs": [
    {
     "data": {
      "text/html": [
       "<div>\n",
       "<style scoped>\n",
       "    .dataframe tbody tr th:only-of-type {\n",
       "        vertical-align: middle;\n",
       "    }\n",
       "\n",
       "    .dataframe tbody tr th {\n",
       "        vertical-align: top;\n",
       "    }\n",
       "\n",
       "    .dataframe thead th {\n",
       "        text-align: right;\n",
       "    }\n",
       "</style>\n",
       "<table border=\"1\" class=\"dataframe\">\n",
       "  <thead>\n",
       "    <tr style=\"text-align: right;\">\n",
       "      <th></th>\n",
       "      <th>index</th>\n",
       "      <th>work_id</th>\n",
       "      <th>name</th>\n",
       "      <th>client_id</th>\n",
       "      <th>memo</th>\n",
       "      <th>price</th>\n",
       "      <th>client</th>\n",
       "      <th>status_id</th>\n",
       "      <th>start_date</th>\n",
       "      <th>end_date</th>\n",
       "      <th>status</th>\n",
       "    </tr>\n",
       "  </thead>\n",
       "  <tbody>\n",
       "    <tr>\n",
       "      <th>0</th>\n",
       "      <td>0</td>\n",
       "      <td>1</td>\n",
       "      <td>1</td>\n",
       "      <td>0</td>\n",
       "      <td></td>\n",
       "      <td>2</td>\n",
       "      <td>A</td>\n",
       "      <td>4</td>\n",
       "      <td>2022-08-14 16:21:45.591428</td>\n",
       "      <td>2022-08-14 16:21:47.842365</td>\n",
       "      <td>工作完成</td>\n",
       "    </tr>\n",
       "    <tr>\n",
       "      <th>1</th>\n",
       "      <td>2</td>\n",
       "      <td>2</td>\n",
       "      <td>2</td>\n",
       "      <td>1</td>\n",
       "      <td>吱吱吱吱吱吱</td>\n",
       "      <td>2</td>\n",
       "      <td>AA</td>\n",
       "      <td>4</td>\n",
       "      <td>2022-08-14 16:42:59.316290</td>\n",
       "      <td>2022-08-14 16:43:01.748314</td>\n",
       "      <td>工作完成</td>\n",
       "    </tr>\n",
       "    <tr>\n",
       "      <th>2</th>\n",
       "      <td>1</td>\n",
       "      <td>8</td>\n",
       "      <td>8</td>\n",
       "      <td>0</td>\n",
       "      <td></td>\n",
       "      <td>1</td>\n",
       "      <td>A</td>\n",
       "      <td>4</td>\n",
       "      <td>2022-08-14 16:43:03.179606</td>\n",
       "      <td>2022-08-14 16:43:04.997605</td>\n",
       "      <td>工作完成</td>\n",
       "    </tr>\n",
       "  </tbody>\n",
       "</table>\n",
       "</div>"
      ],
      "text/plain": [
       "   index  work_id  name  client_id    memo  price client  status_id  \\\n",
       "0      0        1     1          0              2      A          4   \n",
       "1      2        2     2          1  吱吱吱吱吱吱      2     AA          4   \n",
       "2      1        8     8          0              1      A          4   \n",
       "\n",
       "                  start_date                   end_date status  \n",
       "0 2022-08-14 16:21:45.591428 2022-08-14 16:21:47.842365   工作完成  \n",
       "1 2022-08-14 16:42:59.316290 2022-08-14 16:43:01.748314   工作完成  \n",
       "2 2022-08-14 16:43:03.179606 2022-08-14 16:43:04.997605   工作完成  "
      ]
     },
     "execution_count": 15,
     "metadata": {},
     "output_type": "execute_result"
    }
   ],
   "source": [
    "inactive_df"
   ]
  }
 ],
 "metadata": {
  "kernelspec": {
   "display_name": "Python 3",
   "language": "python",
   "name": "python3"
  },
  "language_info": {
   "codemirror_mode": {
    "name": "ipython",
    "version": 3
   },
   "file_extension": ".py",
   "mimetype": "text/x-python",
   "name": "python",
   "nbconvert_exporter": "python",
   "pygments_lexer": "ipython3",
   "version": "3.8.8"
  }
 },
 "nbformat": 4,
 "nbformat_minor": 5
}
